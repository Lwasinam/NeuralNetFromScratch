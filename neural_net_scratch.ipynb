{
 "cells": [
  {
   "cell_type": "code",
   "execution_count": 2,
   "metadata": {},
   "outputs": [],
   "source": [
    "import numpy as np"
   ]
  },
  {
   "attachments": {},
   "cell_type": "markdown",
   "metadata": {},
   "source": [
    "### Creating a multilayer perceptron "
   ]
  },
  {
   "cell_type": "code",
   "execution_count": 2,
   "metadata": {},
   "outputs": [
    {
     "data": {
      "text/plain": [
       "array([[1, 1, 1],\n",
       "       [1, 1, 1],\n",
       "       [1, 1, 1],\n",
       "       [1, 1, 1]])"
      ]
     },
     "execution_count": 2,
     "metadata": {},
     "output_type": "execute_result"
    }
   ],
   "source": [
    "a = np.array([[1,1,1,],[1,1,1,],[1,1,1,],[1,1,1,], ])\n",
    "a"
   ]
  },
  {
   "cell_type": "code",
   "execution_count": 6,
   "metadata": {},
   "outputs": [
    {
     "data": {
      "text/plain": [
       "array([[1],\n",
       "       [1],\n",
       "       [1]])"
      ]
     },
     "execution_count": 6,
     "metadata": {},
     "output_type": "execute_result"
    }
   ],
   "source": [
    "b  = np.array([[1], [1], [1]])\n",
    "b"
   ]
  },
  {
   "cell_type": "code",
   "execution_count": 28,
   "metadata": {},
   "outputs": [
    {
     "ename": "TypeError",
     "evalue": "'module' object is not callable",
     "output_type": "error",
     "traceback": [
      "\u001b[0;31m---------------------------------------------------------------------------\u001b[0m",
      "\u001b[0;31mTypeError\u001b[0m                                 Traceback (most recent call last)",
      "Cell \u001b[0;32mIn[28], line 1\u001b[0m\n\u001b[0;32m----> 1\u001b[0m d \u001b[39m=\u001b[39m np\u001b[39m.\u001b[39;49mrandom(\u001b[39m4\u001b[39;49m,\u001b[39m2\u001b[39;49m)\n\u001b[1;32m      2\u001b[0m d\n",
      "\u001b[0;31mTypeError\u001b[0m: 'module' object is not callable"
     ]
    }
   ],
   "source": [
    "d = np.random\n",
    "d"
   ]
  },
  {
   "cell_type": "code",
   "execution_count": 14,
   "metadata": {},
   "outputs": [
    {
     "data": {
      "text/plain": [
       "array([[1],\n",
       "       [2],\n",
       "       [3]])"
      ]
     },
     "execution_count": 14,
     "metadata": {},
     "output_type": "execute_result"
    }
   ],
   "source": [
    "c  = [1,2,3]\n",
    "\n",
    "d = np.array([c]).transpose()\n",
    "d"
   ]
  },
  {
   "attachments": {},
   "cell_type": "markdown",
   "metadata": {},
   "source": [
    "class NeuralNet():\n",
    "    def input_layer(self, units, hidden_layer):\n",
    "        \n"
   ]
  },
  {
   "cell_type": "code",
   "execution_count": 75,
   "metadata": {},
   "outputs": [],
   "source": [
    "class NeuralNet():\n",
    "    def __init__(self):\n",
    "        self.list_of_all_weights = [] #W\n",
    "        self.list_of_all_weighted_sum = [] #Z\n",
    "        self.list_of_all_activations = [] #A\n",
    "        self.list_of_all_biases = [] #B\n",
    "\n",
    "        self.list_of_all_change_in_activations = [] #dZ\n",
    "        self.list_of_all_change_in_weights = [] #dW\n",
    "        self.list_of_all_change_in_biases = [] #dB\n",
    "\n",
    "        self.y_pred = 0\n",
    "\n",
    "    def input_layer(self, input, hidden_layer, data):\n",
    "        self.data = data\n",
    "        if self.list_of_all_weights != []: \n",
    "            # input layer to hidden layer\n",
    "            # self.input = self.list_of_all_activations[0]\n",
    "            self.weights = self.list_of_all_weights[0]\n",
    "            self.bias = self.list_of_all_biases[0]\n",
    "        else:\n",
    "           \n",
    "            self.weights = np.ones((hidden_layer, input))\n",
    "            self.bias = np.ones((hidden_layer,1))\n",
    "\n",
    "        self.input = np.array([self.data]).transpose()\n",
    "        #adding weights to list of weights to keep track\n",
    "        self.list_of_all_weights.append(self.weights)\n",
    "\n",
    "        self.list_of_all_biases.append(self.bias)\n",
    "\n",
    "\n",
    "        self.weighted_sum = np.dot(self.weights, self.input) + self.bias\n",
    "\n",
    "        #keeping track of weighted sum\n",
    "        self.list_of_all_weighted_sum.append(self.weighted_sum)\n",
    "\n",
    "\n",
    "        self.activation = self.Relu(self.weighted_sum)\n",
    "\n",
    "        print(self.weighted_sum)\n",
    "        #add activation to list to track it\n",
    "        self.list_of_all_activations.append(self.activation)\n",
    "        return self.activation\n",
    "    \n",
    "\n",
    "    def hidden_layer(self, hidden_layer_, hidden_layer):\n",
    "        if len(self.list_of_all_weights) == 3: \n",
    "            # input layer to hidden layer\n",
    "            self.hidden = self.list_of_all_activations[0]\n",
    "            self.weights = self.list_of_all_weights[1]\n",
    "            self.bias = self.list_of_all_biases[1]\n",
    "        else:\n",
    "            self.hidden = np.ones((hidden_layer, 1))\n",
    "            self.weights = np.ones((hidden_layer,hidden_layer_))\n",
    "            self.bias = np.ones((hidden_layer_,1))\n",
    "       \n",
    "        #adding weights to list of weights to keep track\n",
    "        self.list_of_all_weights.append(self.weights)\n",
    "\n",
    "        self.list_of_all_biases.append(self.bias)\n",
    "\n",
    "        #keeping track of weighted sum\n",
    "        self.weighted_sum = np.dot(self.weights, self.hidden) + self.bias\n",
    "        self.list_of_all_weighted_sum.append(self.weighted_sum)\n",
    "\n",
    "\n",
    "\n",
    "       \n",
    "        self.activation = self.Relu(self.weighted_sum)\n",
    "\n",
    "        #add activation to list to track it\n",
    "        print(self.activation)\n",
    "        self.list_of_all_activations.append(self.activation)\n",
    "\n",
    "        return self.activation\n",
    "    def output(self, hidden_layer, output):\n",
    "        if len(self.list_of_all_weights) == 3: \n",
    "            # input layer to hidden layer\n",
    "            self.input = self.list_of_all_activations[1]\n",
    "            self.weights = self.list_of_all_weights[2]\n",
    "            self.bias = self.list_of_all_biases[2]\n",
    "        else:\n",
    "            self.hidden = np.ones((hidden_layer, 1)).transpose()\n",
    "            self.weights = np.ones((hidden_layer,output))\n",
    "            self.bias = np.ones((output,1))\n",
    "\n",
    "        #adding weights to list of weights to keep track\n",
    "        self.list_of_all_weights.append(self.weights)\n",
    "\n",
    "        self.list_of_all_biases.append(self.bias)\n",
    "\n",
    "       \n",
    "        self.weighted_sum = np.dot(self.hidden, self.weights)\n",
    "        \n",
    "       \n",
    "       \n",
    "        self.weighted_sum =  self.weighted_sum.transpose()   + self.bias\n",
    "\n",
    "        # print(self.weighted_sum)\n",
    "        #keeping track of weighted sum\n",
    "        self.list_of_all_weighted_sum.append(self.weighted_sum)\n",
    "\n",
    "    \n",
    "        self.activation = self.softmax(self.weighted_sum)\n",
    "    \n",
    "\n",
    "        \n",
    "        #add activation to list to track it\n",
    "        self.list_of_all_activations.append(self.activation)\n",
    "\n",
    "        # print(self.list_of_all_weights)\n",
    "        # print(self.list_of_all_activations)\n",
    "       \n",
    "        return self.activation\n",
    "    \n",
    "\n",
    "    def softmax(self, array):\n",
    "        exp_output = np.exp(array)\n",
    "        softmax_probs = exp_output / np.sum(exp_output)\n",
    "        return softmax_probs\n",
    "\n",
    "    def Relu(self, array):\n",
    "        a = []\n",
    "        for i in array:\n",
    "            x = max(0, i)\n",
    "            a.append(x)\n",
    "\n",
    "        # print(i)\n",
    "        return np.array(a)\n",
    "       \n",
    "\n",
    "    \n",
    "\n",
    "\n",
    "    def backprop(self,x,y, learning_rate = 0.1, ):\n",
    "      self.input = x\n",
    "      self.y = y\n",
    "      self.learning_rate = learning_rate\n",
    "\n",
    "      #dc/dz = dc/da * da/dz ------->>>>> -y/a * a*(1-a)\n",
    "      # for output to W3\n",
    "      self.list_of_all_change_in_activations.append((-y/self.list_of_all_activations[-1]) * self.list_of_all_activations[-1] *(1-self.list_of_all_activations[-1] ) )\n",
    "      \n",
    "      self.list_of_all_change_in_weights.append(self.list_of_all_change_in_activations[-1].dot(self.list_of_all_activations[1].transpose()) )\n",
    "      self.list_of_all_change_in_biases.append(self.list_of_all_change_in_activations[-1])\n",
    "      ##changing weight 3\n",
    "      self.list_of_all_weights[2] = self.list_of_all_weights[2] - self.learning_rate * self.list_of_all_change_in_weights[-1].transpose()\n",
    "      self.list_of_all_biases[2] = self.list_of_all_biases[2] - self.learning_rate * self.list_of_all_change_in_biases[-1]\n",
    "\n",
    "\n",
    "      # for output to W2\n",
    "      \n",
    "      self.list_of_all_change_in_activations.append((self.list_of_all_weights[2].dot(self.list_of_all_change_in_activations[-1])) * self.Relu(self.list_of_all_weighted_sum[1]))\n",
    "      self.list_of_all_change_in_weights = self.list_of_all_change_in_activations[1].dot(self.list_of_all_activations[1].transpose())\n",
    "      self.list_of_all_change_in_biases.append(self.list_of_all_change_in_activations[-1])\n",
    "\n",
    "\n",
    "      self.list_of_all_weights[1] = self.list_of_all_weights[1] -  self.learning_rate * self.list_of_all_change_in_weights[1]\n",
    "      self.list_of_all_biases[1] = self.list_of_all_biases[1] - self.learning_rate * self.list_of_all_change_in_biases[-1]\n",
    "\n",
    "\n",
    "\n",
    "      #for output W1\n",
    "      self.list_of_all_change_in_activations.append(self.list_of_all_weights[1].transpose().dot(self.list_of_all_change_in_activations[-1]) * self.Relu(self.list_of_all_weighted_sum[0]))\n",
    "      self.list_of_all_change_in_weights = self.list_of_all_change_in_activations[-1] * self.input\n",
    "      self.list_of_all_change_in_biases.append(self.list_of_all_change_in_activations[-1])\n",
    "\n",
    "      self.list_of_all_weights[0] =  self.list_of_all_weights[0] - self.learning_rate *self.list_of_all_change_in_weights[-1]\n",
    "      self.list_of_all_biases[0] = self.list_of_all_biases[0] - self.learning_rate * self.list_of_all_change_in_biases[-1]\n",
    "\n",
    "\n",
    "\n",
    "      #list of all activations contains activations from the two hidden layers and the activation in the output layer [A1,A2,A3]\n",
    "      # list of all weights contains all weights which are three [W1, W2, W3]\n",
    "      # list of all weighted sum contains all weighted sum which are three [Z1, Z2, Z3]\n",
    "\n",
    "      # list of all change in activations contains all change in activations which are stored like this cause we backpropagate [dZ3, dZ2, dZ1]\n",
    "      # list of all change in weights contains all change in weights which are stored like this cause we backpropagate [dW3, dW2, dW1] \n",
    "\n",
    "      \n",
    "      "
   ]
  },
  {
   "cell_type": "code",
   "execution_count": 76,
   "metadata": {},
   "outputs": [
    {
     "name": "stdout",
     "output_type": "stream",
     "text": [
      "[[16.]\n",
      " [16.]\n",
      " [16.]\n",
      " [16.]]\n",
      "[[5.]\n",
      " [5.]\n",
      " [5.]\n",
      " [5.]]\n",
      "[[5.]\n",
      " [5.]\n",
      " [5.]\n",
      " [5.]]\n"
     ]
    }
   ],
   "source": [
    "n = NeuralNet()\n",
    "z = n.input_layer(3,4, [5,5,5])\n",
    "y = n.hidden_layer(4,4)\n",
    "x = n.output(4,2)\n",
    "\n",
    "j = n.backprop([5,5,5], np.array([[1], [0]]), 0.1 )"
   ]
  },
  {
   "cell_type": "code",
   "execution_count": 19,
   "metadata": {},
   "outputs": [
    {
     "data": {
      "text/plain": [
       "array([[1],\n",
       "       [2],\n",
       "       [3]])"
      ]
     },
     "execution_count": 19,
     "metadata": {},
     "output_type": "execute_result"
    }
   ],
   "source": [
    "a = [1,2,3]\n",
    "\n",
    "a = np.array([a]).transpose()\n",
    "a"
   ]
  },
  {
   "cell_type": "code",
   "execution_count": 2,
   "metadata": {},
   "outputs": [
    {
     "data": {
      "text/plain": [
       "array([[0],\n",
       "       [0]])"
      ]
     },
     "execution_count": 2,
     "metadata": {},
     "output_type": "execute_result"
    }
   ],
   "source": [
    "def relu():\n",
    "    array = np.array([[0], [0]])\n",
    "    a = []\n",
    "    for i in array:\n",
    "        x = max(0, i)\n",
    "        a.append(x)\n",
    "\n",
    "        # print(i)\n",
    "    return   np.array([a]).transpose()\n",
    "\n",
    "\n",
    "relu()"
   ]
  },
  {
   "cell_type": "code",
   "execution_count": 2,
   "metadata": {},
   "outputs": [
    {
     "data": {
      "text/plain": [
       "3"
      ]
     },
     "execution_count": 2,
     "metadata": {},
     "output_type": "execute_result"
    }
   ],
   "source": [
    "m =  [ 1,2,3,4,5,6,7,8,9]\n",
    "m[-7]"
   ]
  }
 ],
 "metadata": {
  "kernelspec": {
   "display_name": "Python 3",
   "language": "python",
   "name": "python3"
  },
  "language_info": {
   "codemirror_mode": {
    "name": "ipython",
    "version": 3
   },
   "file_extension": ".py",
   "mimetype": "text/x-python",
   "name": "python",
   "nbconvert_exporter": "python",
   "pygments_lexer": "ipython3",
   "version": "3.10.12"
  },
  "orig_nbformat": 4
 },
 "nbformat": 4,
 "nbformat_minor": 2
}
