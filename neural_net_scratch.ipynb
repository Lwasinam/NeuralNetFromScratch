{
 "cells": [
  {
   "cell_type": "code",
   "execution_count": 1,
   "metadata": {},
   "outputs": [],
   "source": [
    "import numpy as np"
   ]
  },
  {
   "attachments": {},
   "cell_type": "markdown",
   "metadata": {},
   "source": [
    "### Creating a multilayer perceptron "
   ]
  },
  {
   "cell_type": "code",
   "execution_count": 2,
   "metadata": {},
   "outputs": [
    {
     "data": {
      "text/plain": [
       "array([[1, 1, 1],\n",
       "       [1, 1, 1],\n",
       "       [1, 1, 1],\n",
       "       [1, 1, 1]])"
      ]
     },
     "execution_count": 2,
     "metadata": {},
     "output_type": "execute_result"
    }
   ],
   "source": [
    "a = np.array([[1,1,1,],[1,1,1,],[1,1,1,],[1,1,1,], ])\n",
    "a"
   ]
  },
  {
   "cell_type": "code",
   "execution_count": 6,
   "metadata": {},
   "outputs": [
    {
     "data": {
      "text/plain": [
       "array([[1],\n",
       "       [1],\n",
       "       [1]])"
      ]
     },
     "execution_count": 6,
     "metadata": {},
     "output_type": "execute_result"
    }
   ],
   "source": [
    "b  = np.array([[1], [1], [1]])\n",
    "b"
   ]
  },
  {
   "cell_type": "code",
   "execution_count": 7,
   "metadata": {},
   "outputs": [
    {
     "data": {
      "text/plain": [
       "array([[3],\n",
       "       [3],\n",
       "       [3],\n",
       "       [3]])"
      ]
     },
     "execution_count": 7,
     "metadata": {},
     "output_type": "execute_result"
    }
   ],
   "source": [
    "c = np.dot(a,b)\n",
    "c"
   ]
  },
  {
   "attachments": {},
   "cell_type": "markdown",
   "metadata": {},
   "source": [
    "class NeuralNet():\n",
    "    def input_layer(self, units, hidden_layer):\n",
    "        \n"
   ]
  },
  {
   "cell_type": "code",
   "execution_count": 8,
   "metadata": {},
   "outputs": [],
   "source": [
    "class NeuralNet():\n",
    "    def __init__(self):\n",
    "        self.list_of_all_weights = [] #W\n",
    "        self.list_of_all_weighted_sum = [] #Z\n",
    "        self.list_of_all_activations = [] #A\n",
    "\n",
    "        self.list_of_all_change_in_activations = [] #dZ\n",
    "        self.list_of_all_change_in_weights = [] #dW\n",
    "\n",
    "        self.y_pred = 0\n",
    "\n",
    "    def input_layer(self, input, hidden_layer):\n",
    "        # input layer to hidden layer\n",
    "        self.input = np.empty((input, 1), dtype=float)\n",
    "        self.weights = np.empty((hidden_layer, input))\n",
    "\n",
    "\n",
    "        self.input_to_hidden = np.dot(self.weights, self.input)\n",
    "        # self.hidden_layer = self.sigmoid(self.input_to_hidden)\n",
    "        return self.input_to_hidden\n",
    "    \n",
    "\n",
    "    def hidden_layer(self, hidden_layer_, hidden_layer):\n",
    "        self.hidden = np.empty((hidden_layer, 1))\n",
    "        self.weights = np.empty((hidden_layer,hidden_layer_))\n",
    "        print(self.hidden)\n",
    "        print(self.weights)\n",
    "        self.summation = np.dot(self.weights, self.hidden)\n",
    "        return self.summation\n",
    "    def output(self, hidden_layer, output):\n",
    "        self.hidden = np.empty((hidden_layer, 1)).transpose()\n",
    "        self.weights = np.empty((hidden_layer,output))\n",
    "        print(self.hidden)\n",
    "        print(self.weights)\n",
    "        self.summation = np.dot(self.hidden, self.weights)\n",
    "        return self.summation\n",
    "    def Relu(self, x):\n",
    "        return max(0, x)\n",
    "\n",
    "    \n",
    "\n",
    "\n",
    "    def backprop(self,x, learning_rate = 0.1, ):\n",
    "      self.input = x\n",
    "      self.learning_rate = learning_rate\n",
    "      # for output to W3\n",
    "      self.list_of_all_change_in_activations.append((self.list_of_all_activations[-1] - self.y_pred) * self.list_of_all_activations[-1] *(1-self.list_of_all_activations[-1] ) )\n",
    "      self.list_of_all_change_in_weights.append(self.list_of_all_change_in_activations[0] * self.list_of_all_activations[1])\n",
    "      ##changing weight 3\n",
    "      self.list_of_all_weights[2] - self.learning_rate * self.list_of_all_change_in_weights[0]\n",
    "\n",
    "\n",
    "      # for output to W2\n",
    "      self.list_of_all_change_in_activations.append(self.list_of_all_weights[2] * self.list_of_all_change_in_activations[-1] * self.Relu(self.list_of_all_weighted_sum[1]))\n",
    "      self.list_of_all_change_in_weights = self.list_of_all_change_in_activations[1] * self.list_of_all_activations[1]\n",
    "      self.list_of_all_weights[1] = self.list_of_all_weights[1] - self.list_of_all_change_in_weights[1]\n",
    "\n",
    "\n",
    "\n",
    "      #for output W1\n",
    "      self.list_of_all_change_in_activations.append(self.list_of_all_weights[1] * self.list_of_all_change_in_activations[-1] * self.Relu(self.list_of_all_weighted_sum[0]))\n",
    "      self.list_of_all_change_in_weights = self.list_of_all_change_in_activations[-1] * self.input\n",
    "      self.list_of_all_weights[0] = learning_rate * self.list_of_all_weights[1] - self.list_of_all_change_in_weights[-1]\n",
    "\n",
    "\n",
    "\n",
    "      #list of all activations contains activations from the two hidden layers and the activation in the output layer [A1,A2,A3]\n",
    "      # list of all weights contains all weights which are three [W1, W2, W3]\n",
    "      # list of all weighted sum contains all weighted sum which are three [Z1, Z2, Z3]\n",
    "\n",
    "      # list of all change in activations contains all change in activations which are stored like this cause we backpropagate [dZ3, dZ2, dZ1]\n",
    "      # list of all change in weights contains all change in weights which are stored like this cause we backpropagate [dW3, dW2, dW1] \n",
    "\n",
    "      \n",
    "      "
   ]
  },
  {
   "cell_type": "code",
   "execution_count": 9,
   "metadata": {},
   "outputs": [
    {
     "name": "stdout",
     "output_type": "stream",
     "text": [
      "[[4.65706588e-310 0.00000000e+000 4.65820104e-310 4.65820102e-310]]\n",
      "[[6.91157263e-310 6.91157263e-310]\n",
      " [6.91157263e-310 6.91157263e-310]\n",
      " [6.91156910e-310 6.91156910e-310]\n",
      " [6.91156910e-310 6.91156910e-310]]\n"
     ]
    },
    {
     "data": {
      "text/plain": [
       "array([[0., 0.]])"
      ]
     },
     "execution_count": 9,
     "metadata": {},
     "output_type": "execute_result"
    }
   ],
   "source": [
    "n = NeuralNet()\n",
    "j = n.output(4,2)\n",
    "j"
   ]
  },
  {
   "cell_type": "code",
   "execution_count": 9,
   "metadata": {},
   "outputs": [
    {
     "data": {
      "text/plain": [
       "array([[94669155195769],\n",
       "       [             0],\n",
       "       [            32]])"
      ]
     },
     "execution_count": 9,
     "metadata": {},
     "output_type": "execute_result"
    }
   ],
   "source": [
    "array = np.empty((3,1), int)\n",
    "array\n",
    "\n",
    "# mult  = np.array([1,1,1])\n"
   ]
  },
  {
   "cell_type": "code",
   "execution_count": 2,
   "metadata": {},
   "outputs": [
    {
     "data": {
      "text/plain": [
       "3"
      ]
     },
     "execution_count": 2,
     "metadata": {},
     "output_type": "execute_result"
    }
   ],
   "source": [
    "m =  [ 1,2,3,4,5,6,7,8,9]\n",
    "m[-7]"
   ]
  }
 ],
 "metadata": {
  "kernelspec": {
   "display_name": "Python 3",
   "language": "python",
   "name": "python3"
  },
  "language_info": {
   "codemirror_mode": {
    "name": "ipython",
    "version": 3
   },
   "file_extension": ".py",
   "mimetype": "text/x-python",
   "name": "python",
   "nbconvert_exporter": "python",
   "pygments_lexer": "ipython3",
   "version": "3.10.12"
  },
  "orig_nbformat": 4
 },
 "nbformat": 4,
 "nbformat_minor": 2
}
